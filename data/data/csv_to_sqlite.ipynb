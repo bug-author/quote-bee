{
 "cells": [
  {
   "cell_type": "code",
   "execution_count": 1,
   "metadata": {},
   "outputs": [],
   "source": [
    "import sqlite3\n",
    "import pandas as pd"
   ]
  },
  {
   "cell_type": "code",
   "execution_count": 2,
   "metadata": {},
   "outputs": [],
   "source": [
    "df = pd.read_csv('preprocessed_data_v1.csv')"
   ]
  },
  {
   "cell_type": "code",
   "execution_count": 3,
   "metadata": {},
   "outputs": [],
   "source": [
    "df.columns = df.columns.str.strip()"
   ]
  },
  {
   "cell_type": "code",
   "execution_count": 4,
   "metadata": {},
   "outputs": [
    {
     "data": {
      "text/plain": [
       "Index(['Date', 'User', 'Tweet', 'Like Count', 'Media', 'In Reply To User',\n",
       "       'Mentioned Users', 'Hashtags', 'Language', 'Outlinks', 'Reply Count',\n",
       "       'Retweet Count', 'URL', 'Quoted Tweet'],\n",
       "      dtype='object')"
      ]
     },
     "execution_count": 4,
     "metadata": {},
     "output_type": "execute_result"
    }
   ],
   "source": [
    "df.columns"
   ]
  },
  {
   "cell_type": "markdown",
   "metadata": {},
   "source": [
    "### Sanity checks"
   ]
  },
  {
   "cell_type": "code",
   "execution_count": 5,
   "metadata": {},
   "outputs": [
    {
     "data": {
      "text/plain": [
       "Date                   0\n",
       "User                   0\n",
       "Tweet                  0\n",
       "Like Count             0\n",
       "Media               9189\n",
       "In Reply To User    9189\n",
       "Mentioned Users     9189\n",
       "Hashtags            9189\n",
       "Language               0\n",
       "Outlinks            9189\n",
       "Reply Count            0\n",
       "Retweet Count          0\n",
       "URL                    0\n",
       "Quoted Tweet        9189\n",
       "dtype: int64"
      ]
     },
     "execution_count": 5,
     "metadata": {},
     "output_type": "execute_result"
    }
   ],
   "source": [
    "df.isna().sum()"
   ]
  },
  {
   "cell_type": "code",
   "execution_count": 6,
   "metadata": {},
   "outputs": [
    {
     "data": {
      "text/plain": [
       "en    9189\n",
       "Name: Language, dtype: int64"
      ]
     },
     "execution_count": 6,
     "metadata": {},
     "output_type": "execute_result"
    }
   ],
   "source": [
    "df['Language'].value_counts()"
   ]
  },
  {
   "cell_type": "code",
   "execution_count": 7,
   "metadata": {},
   "outputs": [],
   "source": [
    "cols = [col for col in df.columns if col in ['Date', 'Tweet', 'Like Count', 'Retweet Count', 'URL']]"
   ]
  },
  {
   "cell_type": "code",
   "execution_count": 8,
   "metadata": {},
   "outputs": [],
   "source": [
    "df = df[cols]"
   ]
  },
  {
   "cell_type": "code",
   "execution_count": 9,
   "metadata": {},
   "outputs": [],
   "source": [
    "df['Favourite'] = False"
   ]
  },
  {
   "cell_type": "code",
   "execution_count": 10,
   "metadata": {},
   "outputs": [
    {
     "data": {
      "text/html": [
       "<div>\n",
       "<style scoped>\n",
       "    .dataframe tbody tr th:only-of-type {\n",
       "        vertical-align: middle;\n",
       "    }\n",
       "\n",
       "    .dataframe tbody tr th {\n",
       "        vertical-align: top;\n",
       "    }\n",
       "\n",
       "    .dataframe thead th {\n",
       "        text-align: right;\n",
       "    }\n",
       "</style>\n",
       "<table border=\"1\" class=\"dataframe\">\n",
       "  <thead>\n",
       "    <tr style=\"text-align: right;\">\n",
       "      <th></th>\n",
       "      <th>Date</th>\n",
       "      <th>Tweet</th>\n",
       "      <th>Like Count</th>\n",
       "      <th>Retweet Count</th>\n",
       "      <th>URL</th>\n",
       "      <th>Favourite</th>\n",
       "    </tr>\n",
       "  </thead>\n",
       "  <tbody>\n",
       "    <tr>\n",
       "      <th>0</th>\n",
       "      <td>2022-07-06 19:50:21+00:00</td>\n",
       "      <td>Being happy &amp; being content are two different ...</td>\n",
       "      <td>24001</td>\n",
       "      <td>7095</td>\n",
       "      <td>https://twitter.com/muftimenk/status/154477074...</td>\n",
       "      <td>False</td>\n",
       "    </tr>\n",
       "    <tr>\n",
       "      <th>1</th>\n",
       "      <td>2022-07-06 11:15:50+00:00</td>\n",
       "      <td>You become what you constantly think about. If...</td>\n",
       "      <td>26001</td>\n",
       "      <td>7722</td>\n",
       "      <td>https://twitter.com/muftimenk/status/154464126...</td>\n",
       "      <td>False</td>\n",
       "    </tr>\n",
       "    <tr>\n",
       "      <th>2</th>\n",
       "      <td>2022-07-05 19:00:04+00:00</td>\n",
       "      <td>Do remember that not everything about you is m...</td>\n",
       "      <td>25587</td>\n",
       "      <td>6766</td>\n",
       "      <td>https://twitter.com/muftimenk/status/154439570...</td>\n",
       "      <td>False</td>\n",
       "    </tr>\n",
       "    <tr>\n",
       "      <th>3</th>\n",
       "      <td>2022-07-04 21:21:04+00:00</td>\n",
       "      <td>Complaining to others and stressing over our p...</td>\n",
       "      <td>26775</td>\n",
       "      <td>6616</td>\n",
       "      <td>https://twitter.com/muftimenk/status/154406880...</td>\n",
       "      <td>False</td>\n",
       "    </tr>\n",
       "    <tr>\n",
       "      <th>4</th>\n",
       "      <td>2022-07-04 04:36:11+00:00</td>\n",
       "      <td>Delays, disappointment and detours are all par...</td>\n",
       "      <td>28822</td>\n",
       "      <td>8024</td>\n",
       "      <td>https://twitter.com/muftimenk/status/154381591...</td>\n",
       "      <td>False</td>\n",
       "    </tr>\n",
       "    <tr>\n",
       "      <th>...</th>\n",
       "      <td>...</td>\n",
       "      <td>...</td>\n",
       "      <td>...</td>\n",
       "      <td>...</td>\n",
       "      <td>...</td>\n",
       "      <td>...</td>\n",
       "    </tr>\n",
       "    <tr>\n",
       "      <th>9184</th>\n",
       "      <td>2011-08-19 22:00:12+00:00</td>\n",
       "      <td>Insha Allah I will be at Masjid Nurul Huda in ...</td>\n",
       "      <td>1</td>\n",
       "      <td>1</td>\n",
       "      <td>https://twitter.com/muftimenk/status/104674048...</td>\n",
       "      <td>False</td>\n",
       "    </tr>\n",
       "    <tr>\n",
       "      <th>9185</th>\n",
       "      <td>2011-08-17 13:52:37+00:00</td>\n",
       "      <td>In sha Allah speaking on Prophets Ayyub and Yu...</td>\n",
       "      <td>10</td>\n",
       "      <td>6</td>\n",
       "      <td>https://twitter.com/muftimenk/status/103826566...</td>\n",
       "      <td>False</td>\n",
       "    </tr>\n",
       "    <tr>\n",
       "      <th>9186</th>\n",
       "      <td>2011-08-14 23:32:24+00:00</td>\n",
       "      <td>Apologies, for some reason it was not replayed...</td>\n",
       "      <td>3</td>\n",
       "      <td>0</td>\n",
       "      <td>https://twitter.com/muftimenk/status/102885313...</td>\n",
       "      <td>False</td>\n",
       "    </tr>\n",
       "    <tr>\n",
       "      <th>9187</th>\n",
       "      <td>2011-08-14 22:49:47+00:00</td>\n",
       "      <td>www.vocfm.co.za has a repeat of tonights talk ...</td>\n",
       "      <td>2</td>\n",
       "      <td>0</td>\n",
       "      <td>https://twitter.com/muftimenk/status/102874588...</td>\n",
       "      <td>False</td>\n",
       "    </tr>\n",
       "    <tr>\n",
       "      <th>9188</th>\n",
       "      <td>2011-07-13 15:04:52+00:00</td>\n",
       "      <td>I pray that the benefit 4m a daily tweet or FB...</td>\n",
       "      <td>1</td>\n",
       "      <td>2</td>\n",
       "      <td>https://twitter.com/muftimenk/status/911611745...</td>\n",
       "      <td>False</td>\n",
       "    </tr>\n",
       "  </tbody>\n",
       "</table>\n",
       "<p>9189 rows × 6 columns</p>\n",
       "</div>"
      ],
      "text/plain": [
       "                           Date  \\\n",
       "0     2022-07-06 19:50:21+00:00   \n",
       "1     2022-07-06 11:15:50+00:00   \n",
       "2     2022-07-05 19:00:04+00:00   \n",
       "3     2022-07-04 21:21:04+00:00   \n",
       "4     2022-07-04 04:36:11+00:00   \n",
       "...                         ...   \n",
       "9184  2011-08-19 22:00:12+00:00   \n",
       "9185  2011-08-17 13:52:37+00:00   \n",
       "9186  2011-08-14 23:32:24+00:00   \n",
       "9187  2011-08-14 22:49:47+00:00   \n",
       "9188  2011-07-13 15:04:52+00:00   \n",
       "\n",
       "                                                  Tweet  Like Count  \\\n",
       "0     Being happy & being content are two different ...       24001   \n",
       "1     You become what you constantly think about. If...       26001   \n",
       "2     Do remember that not everything about you is m...       25587   \n",
       "3     Complaining to others and stressing over our p...       26775   \n",
       "4     Delays, disappointment and detours are all par...       28822   \n",
       "...                                                 ...         ...   \n",
       "9184  Insha Allah I will be at Masjid Nurul Huda in ...           1   \n",
       "9185  In sha Allah speaking on Prophets Ayyub and Yu...          10   \n",
       "9186  Apologies, for some reason it was not replayed...           3   \n",
       "9187  www.vocfm.co.za has a repeat of tonights talk ...           2   \n",
       "9188  I pray that the benefit 4m a daily tweet or FB...           1   \n",
       "\n",
       "      Retweet Count                                                URL  \\\n",
       "0              7095  https://twitter.com/muftimenk/status/154477074...   \n",
       "1              7722  https://twitter.com/muftimenk/status/154464126...   \n",
       "2              6766  https://twitter.com/muftimenk/status/154439570...   \n",
       "3              6616  https://twitter.com/muftimenk/status/154406880...   \n",
       "4              8024  https://twitter.com/muftimenk/status/154381591...   \n",
       "...             ...                                                ...   \n",
       "9184              1  https://twitter.com/muftimenk/status/104674048...   \n",
       "9185              6  https://twitter.com/muftimenk/status/103826566...   \n",
       "9186              0  https://twitter.com/muftimenk/status/102885313...   \n",
       "9187              0  https://twitter.com/muftimenk/status/102874588...   \n",
       "9188              2  https://twitter.com/muftimenk/status/911611745...   \n",
       "\n",
       "      Favourite  \n",
       "0         False  \n",
       "1         False  \n",
       "2         False  \n",
       "3         False  \n",
       "4         False  \n",
       "...         ...  \n",
       "9184      False  \n",
       "9185      False  \n",
       "9186      False  \n",
       "9187      False  \n",
       "9188      False  \n",
       "\n",
       "[9189 rows x 6 columns]"
      ]
     },
     "execution_count": 10,
     "metadata": {},
     "output_type": "execute_result"
    }
   ],
   "source": [
    "df"
   ]
  },
  {
   "cell_type": "code",
   "execution_count": 11,
   "metadata": {},
   "outputs": [],
   "source": [
    "con = sqlite3.connect('quotes.db')"
   ]
  },
  {
   "cell_type": "code",
   "execution_count": 12,
   "metadata": {},
   "outputs": [
    {
     "data": {
      "text/plain": [
       "9189"
      ]
     },
     "execution_count": 12,
     "metadata": {},
     "output_type": "execute_result"
    }
   ],
   "source": [
    "df.to_sql(\"quotes\", con)"
   ]
  },
  {
   "cell_type": "code",
   "execution_count": 13,
   "metadata": {},
   "outputs": [],
   "source": [
    "con.close()"
   ]
  }
 ],
 "metadata": {
  "kernelspec": {
   "display_name": "Python 3.8.10 64-bit (windows store)",
   "language": "python",
   "name": "python3"
  },
  "language_info": {
   "codemirror_mode": {
    "name": "ipython",
    "version": 3
   },
   "file_extension": ".py",
   "mimetype": "text/x-python",
   "name": "python",
   "nbconvert_exporter": "python",
   "pygments_lexer": "ipython3",
   "version": "3.8.10"
  },
  "orig_nbformat": 4,
  "vscode": {
   "interpreter": {
    "hash": "b911c126cf73b444bc8db27a590766f0e0606134cbb3e067d1286f0bc89eeadd"
   }
  }
 },
 "nbformat": 4,
 "nbformat_minor": 2
}
